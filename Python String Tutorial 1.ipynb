{
 "cells": [
  {
   "cell_type": "code",
   "execution_count": null,
   "metadata": {},
   "outputs": [],
   "source": [
    "#PYTHON STRING TUTORIAL"
   ]
  },
  {
   "cell_type": "code",
   "execution_count": 1,
   "metadata": {},
   "outputs": [
    {
     "name": "stdout",
     "output_type": "stream",
     "text": [
      "s\n",
      "o\n",
      "d\n",
      "i\n",
      "q <--the first letter\n"
     ]
    }
   ],
   "source": [
    "#Indexing\n",
    "student_name=\"sodiq\"\n",
    "print(student_name[0],\"<--the first letter\")\n",
    "print(student_name[1])\n",
    "print(student_name[2],\"<--the third letter\")\n",
    "print(student_name[3])\n",
    "print(student_name[4],\"<--the fifth letter\")"
   ]
  },
  {
   "cell_type": "code",
   "execution_count": 4,
   "metadata": {},
   "outputs": [
    {
     "name": "stdout",
     "output_type": "stream",
     "text": [
      "yes, name start with S: Sodiq\n"
     ]
    }
   ],
   "source": [
    "#Combining with  Conditional Statement\n",
    "student_name=\"Sodiq\"\n",
    "if student_name[0].lower()=='a':\n",
    "    print('yes, name start with A:',student_name)\n",
    "elif student_name[0].lower()=='s':\n",
    "    print('yes, name start with S:', student_name)\n",
    "else:\n",
    "    print('non of the mention', student_name)"
   ]
  },
  {
   "cell_type": "code",
   "execution_count": 5,
   "metadata": {},
   "outputs": [
    {
     "name": "stdout",
     "output_type": "stream",
     "text": [
      "B <--first letter\n",
      "S <--third letter\n",
      "O <-- fifth letter\n"
     ]
    }
   ],
   "source": [
    "street_name=\"BISIOLU\"\n",
    "print(street_name[0],\"<--first letter\")\n",
    "print(street_name[2],\"<--third letter\")\n",
    "print(street_name[4],\"<-- fifth letter\")"
   ]
  },
  {
   "cell_type": "code",
   "execution_count": 8,
   "metadata": {},
   "outputs": [
    {
     "name": "stdout",
     "output_type": "stream",
     "text": [
      "the second letter is I: LIVERPOOL\n"
     ]
    }
   ],
   "source": [
    "team_name=\"LIVERPOOL\"\n",
    "if team_name[1].lower()=='i':\n",
    "    print('the second letter is I:',team_name)\n",
    "elif team_name[1].lower()=='o':\n",
    "    print('the second letter is O:',team_name)\n",
    "elif team_name[1].lower()=='u':\n",
    "    print('the second letter is U:',team_name)\n",
    "else:\n",
    "    print('non of them is the second letter', team_name)"
   ]
  },
  {
   "cell_type": "code",
   "execution_count": 1,
   "metadata": {},
   "outputs": [
    {
     "name": "stdout",
     "output_type": "stream",
     "text": [
      "joana ends with 'a'\n"
     ]
    }
   ],
   "source": [
    "student_name=\"joana\"\n",
    "end_letter=student_name[-1]\n",
    "print(student_name,\"ends with\",\"'\"+end_letter+\"'\")"
   ]
  },
  {
   "cell_type": "code",
   "execution_count": 3,
   "metadata": {},
   "outputs": [
    {
     "name": "stdout",
     "output_type": "stream",
     "text": [
      "joana has second to the last letter of 'n'\n"
     ]
    }
   ],
   "source": [
    "second_last_letter=student_name[-2]\n",
    "print(student_name,\"has second to the last letter of\",\"'\"+second_last_letter+\"'\")"
   ]
  },
  {
   "cell_type": "code",
   "execution_count": 4,
   "metadata": {},
   "outputs": [
    {
     "name": "stdout",
     "output_type": "stream",
     "text": [
      "for joana\n",
      "index 3 'n'\n",
      "index -2 'n'\n"
     ]
    }
   ],
   "source": [
    "student_name=\"joana\"\n",
    "print(\"for\",student_name)\n",
    "print(\"index 3\",\"'\"+student_name[3]+\"'\")\n",
    "print(\"index -2\",\"'\"+student_name[-2]+\"'\")"
   ]
  },
  {
   "cell_type": "code",
   "execution_count": 6,
   "metadata": {},
   "outputs": [
    {
     "name": "stdout",
     "output_type": "stream",
     "text": [
      "N\n",
      "for OLAYINKA\n",
      "the first letter is 'O' while the last letter is 'A'\n"
     ]
    }
   ],
   "source": [
    "street_name=\"TANKE\"\n",
    "#print the last 3 characaters of the street_name\n",
    "print(street_name[-3])\n",
    "first_name=\"OLAYINKA\"\n",
    "#print the first and last letters of name\n",
    "print(\"for\",first_name)\n",
    "print(\"the first letter is\",\"'\"+first_name[0]+\"'\",\"while the last letter is\",\"'\"+first_name[-1]+\"'\")"
   ]
  },
  {
   "cell_type": "code",
   "execution_count": 8,
   "metadata": {},
   "outputs": [
    {
     "name": "stdout",
     "output_type": "stream",
     "text": [
      "s\n"
     ]
    }
   ],
   "source": [
    "#Review, Run, Fix the error using string index\n",
    "shoe=\"tennis\"\n",
    "#print the last letter\n",
    "#print(shoe(-1))\n",
    "#correction\n",
    "print(shoe[-1])"
   ]
  },
  {
   "cell_type": "code",
   "execution_count": 10,
   "metadata": {},
   "outputs": [
    {
     "name": "stdout",
     "output_type": "stream",
     "text": [
      "slice student_name[2:5]: let\n"
     ]
    }
   ],
   "source": [
    "student_name=\"Colette\"\n",
    "#addressing the 3rd,4th and 5th characters using a slice\n",
    "print(\"slice student_name[2:5]:\", student_name[2:5])"
   ]
  },
  {
   "cell_type": "code",
   "execution_count": 12,
   "metadata": {},
   "outputs": [
    {
     "name": "stdout",
     "output_type": "stream",
     "text": [
      "index 2,3 & 4 of student_name: let\n"
     ]
    }
   ],
   "source": [
    "student_name=\"colette\"\n",
    "print(\"index 2,3 & 4 of student_name:\",student_name[2]+student_name[3]+student_name[4])"
   ]
  },
  {
   "cell_type": "code",
   "execution_count": 1,
   "metadata": {},
   "outputs": [
    {
     "name": "stdout",
     "output_type": "stream",
     "text": [
      "C:\\Users\\USER\n"
     ]
    }
   ],
   "source": [
    "import os\n",
    "directory=os.getcwd()\n",
    "print(directory)"
   ]
  },
  {
   "cell_type": "code",
   "execution_count": 7,
   "metadata": {},
   "outputs": [
    {
     "name": "stdout",
     "output_type": "stream",
     "text": [
      "knowledge\n",
      "knowledge is the 3rd char through the 11th char\n",
      "knowledge is the index 2,\"k\", through index 10,\"e\"\n"
     ]
    }
   ],
   "source": [
    "long_word=\"Acknowledgement\"\n",
    "print(long_word[2:11])\n",
    "print(long_word[2:11], \"is the 3rd char through the 11th char\")\n",
    "print(long_word[2:11],\"is the index 2,\\\"\"+long_word[2]+\"\\\",\",\"through index 10,\\\"\"+long_word[10]+\"\\\"\")"
   ]
  },
  {
   "cell_type": "code",
   "execution_count": 21,
   "metadata": {},
   "outputs": [
    {
     "name": "stdout",
     "output_type": "stream",
     "text": [
      "act\n",
      "tic\n",
      "sequence\n"
     ]
    }
   ],
   "source": [
    "#slice long_word to print\"act\" and to print \"tic\"\n",
    "long_word=\"characteristics\"\n",
    "print(long_word[4:7])\n",
    "print(long_word[-4:-1])\n",
    "#slice long_word to print \"sequence\"\n",
    "long_word=\"consequence\"\n",
    "print(long_word[3:])"
   ]
  },
  {
   "cell_type": "code",
   "execution_count": 23,
   "metadata": {},
   "outputs": [
    {
     "name": "stdout",
     "output_type": "stream",
     "text": [
      "con\n",
      "sequence\n"
     ]
    }
   ],
   "source": [
    "long_word=\"consequence\"\n",
    "print(long_word[:3])\n",
    "print(long_word[3:])"
   ]
  },
  {
   "cell_type": "code",
   "execution_count": 26,
   "metadata": {},
   "outputs": [
    {
     "name": "stdout",
     "output_type": "stream",
     "text": [
      "Colette\n",
      "Clte\n",
      "oet\n",
      "osqe\n",
      "koldeet\n"
     ]
    }
   ],
   "source": [
    "student_name=\"Colette\"\n",
    "print(student_name[:])\n",
    "print(student_name[::2])\n",
    "print(student_name[1::2])\n",
    "long_word=\"Consequence\"\n",
    "print(long_word[1:9:2])\n",
    "long_word=\"Acknowledgement\"\n",
    "print(long_word[2::2])"
   ]
  },
  {
   "cell_type": "code",
   "execution_count": 2,
   "metadata": {},
   "outputs": [
    {
     "name": "stdout",
     "output_type": "stream",
     "text": [
      "scitsiretcarahc\n",
      "tcarahc\n",
      "arahc\n",
      "time\n",
      "emit\n",
      "enil\n",
      "nile\n"
     ]
    }
   ],
   "source": [
    "long_word=\"characteristics\"\n",
    "print(long_word[::-1])\n",
    "print(long_word[6::-1])\n",
    "print(long_word[4::-1])\n",
    "#task 6\n",
    "long_word=\"timeline\" \n",
    "print(long_word[0:4]) #first four letter\n",
    "print(long_word[3::-1]) #first four letter in reverse\n",
    "print(long_word[-1:-5:-1]) #last four letter in reverse\n",
    "print(long_word[-2:-6:-1])"
   ]
  },
  {
   "cell_type": "code",
   "execution_count": 22,
   "metadata": {},
   "outputs": [
    {
     "name": "stdout",
     "output_type": "stream",
     "text": [
      "t\n",
      "r\n",
      "u\n",
      "m\n",
      "p\n",
      "e\n",
      "t\n"
     ]
    }
   ],
   "source": [
    "word=\"trumpet\"\n",
    "for item in word:\n",
    "    print(item)"
   ]
  },
  {
   "cell_type": "code",
   "execution_count": 27,
   "metadata": {},
   "outputs": [
    {
     "name": "stdout",
     "output_type": "stream",
     "text": [
      "Skye to Ye\n"
     ]
    }
   ],
   "source": [
    "student_name=\"Skye\"\n",
    "new_name=\"\"\n",
    "for ltr in student_name:\n",
    "    if ltr.lower()==\"y\":\n",
    "     new_name+=ltr.upper()\n",
    "else:\n",
    "    new_name+=ltr\n",
    "    print(student_name,\"to\",new_name)"
   ]
  },
  {
   "cell_type": "code",
   "execution_count": 36,
   "metadata": {},
   "outputs": [
    {
     "name": "stdout",
     "output_type": "stream",
     "text": [
      "S\n",
      "o\n",
      "d\n",
      "i\n",
      "q\n",
      "olayinka to Ol\n",
      "olayinka to Ola\n",
      "olayinka to Olay\n",
      "olayinka to OlayIn\n",
      "olayinka to OlayInk\n",
      "olayinka to OlayInka\n"
     ]
    }
   ],
   "source": [
    "first_name=\"Sodiq\"\n",
    "#iterate through letters in first_name\n",
    "for alpha in first_name:\n",
    "    print(alpha)\n",
    "first_name=\"olayinka\"\n",
    "new_name=\"\"\n",
    "for letters in first_name:\n",
    "    if letters.lower()==\"i\":\n",
    "        new_name+=letters.upper()\n",
    "    elif letters.lower()==\"o\":\n",
    "        new_name+=letters.upper()\n",
    "    else:\n",
    "        new_name+=letters\n",
    "        print(first_name,\"to\", new_name)\n",
    "        \n",
    "        "
   ]
  },
  {
   "cell_type": "code",
   "execution_count": 37,
   "metadata": {},
   "outputs": [
    {
     "name": "stdout",
     "output_type": "stream",
     "text": [
      "eulBBlue\n"
     ]
    }
   ],
   "source": [
    "fav_color=\"Blue\"\n",
    "print(fav_color[::-1]+fav_color)"
   ]
  },
  {
   "cell_type": "code",
   "execution_count": 7,
   "metadata": {},
   "outputs": [
    {
     "name": "stdout",
     "output_type": "stream",
     "text": [
      "14 \n",
      "\n",
      "2 \n",
      "\n",
      "0 \n",
      "\n",
      "7 \n",
      "\n"
     ]
    }
   ],
   "source": [
    "work_tip=\"save your code\"\n",
    "#number of character\n",
    "print(len(work_tip), \"\\n\")\n",
    "#letter \"o\" occurence\n",
    "print(work_tip.count(\"o\"),\"\\n\")\n",
    "#find the index of the first space \n",
    "print(work_tip.find(\"\"), \"\\n\")\n",
    "#find the index of \"u\" searching a slice work_tip[3:9\n",
    "print(work_tip.find(\"u\",3,9),\"\\n\")"
   ]
  },
  {
   "cell_type": "code",
   "execution_count": 10,
   "metadata": {},
   "outputs": [
    {
     "name": "stdout",
     "output_type": "stream",
     "text": [
      "The sentence:\"good code is commented code\" has a character length= 27\n",
      "good code is \n"
     ]
    }
   ],
   "source": [
    "#len()- returns a strings length\n",
    "work_tip=\"good code is commented code\"\n",
    "print (\"The sentence:\\\"\"+work_tip+\"\\\" has a character length=\",len(work_tip))\n",
    "#find the middle index\n",
    "work_tip=\"good code is commented code\"\n",
    "mid_pt=int(len(work_tip)/2)\n",
    "#print the first half of the sentence\n",
    "print(work_tip[:mid_pt])"
   ]
  },
  {
   "cell_type": "code",
   "execution_count": 11,
   "metadata": {},
   "outputs": [
    {
     "name": "stdout",
     "output_type": "stream",
     "text": [
      "good code is commented code\n",
      "how many w's? 0\n",
      "how many o's? 5\n",
      "uses 'code', how many times? 2\n",
      "good code is \n",
      "# o's in first half\n",
      "0\n",
      "commented code\n",
      "# o's in second half\n",
      "2\n"
     ]
    }
   ],
   "source": [
    "#.count()\n",
    "work_tip=\"good code is commented code\"\n",
    "print(work_tip)\n",
    "print(\"how many w's?\", work_tip.count(\"w\"))\n",
    "print(\"how many o's?\",work_tip.count(\"o\"))\n",
    "print(\"uses 'code', how many times?\", work_tip.count(\"code\"))\n",
    "print(work_tip[:mid_pt])\n",
    "print(\"# o's in first half\")\n",
    "print(work_tip[mid_pt].count(\"o\"))\n",
    "print(work_tip[mid_pt:])\n",
    "print(\"# o's in second half\")\n",
    "print(work_tip[mid_pt:].count(\"o\"))"
   ]
  },
  {
   "cell_type": "code",
   "execution_count": 13,
   "metadata": {},
   "outputs": [
    {
     "name": "stdout",
     "output_type": "stream",
     "text": [
      "good code has meaningful variable names\n",
      "5 =starting index for \"code\"\n",
      "search for \"meaning\" in the sub-string:  meaningful variable \n",
      "\n",
      "\"meaning\" found in work_tip[13:33] sub-string search at index 14\n"
     ]
    }
   ],
   "source": [
    "#find()\n",
    "work_tip=\"good code has meaningful variable names\"\n",
    "print(work_tip)\n",
    "#index where first instance of \"code\" starts\n",
    "code_here=work_tip.find(\"code\")\n",
    "print(code_here,'=starting index for \"code\"')\n",
    "#set start index13 and end index 33\n",
    "print('search for \"meaning\" in the sub-string:',work_tip[13:33],\"\\n\")\n",
    "meaning_here= work_tip.find(\"meaning\",13,33)\n",
    "print('\"meaning\" found in work_tip[13:33] sub-string search at index',meaning_here)"
   ]
  },
  {
   "cell_type": "code",
   "execution_count": 35,
   "metadata": {},
   "outputs": [
    {
     "name": "stdout",
     "output_type": "stream",
     "text": [
      "24\n",
      "the mid-point of the statement 'wear a hat when it rains' is at index 12\n",
      "wear a hat w \n",
      " hen it rains\n",
      "2 \n",
      " 4\n",
      "Letter 'a' is most frequent 4\n",
      "taposit\n"
     ]
    }
   ],
   "source": [
    "#task 1\n",
    "#use len() to find the midpoint of the string\n",
    "#print the halves on seperate lines\n",
    "random_tip=\"wear a hat when it rains\"\n",
    "print(len(random_tip))\n",
    "mid_pt=int(len(random_tip)/2)\n",
    "print(\"the mid-point of the statement 'wear a hat when it rains' is at index\", mid_pt)\n",
    "first_halve=random_tip[:mid_pt]\n",
    "second_halve=random_tip[mid_pt:]\n",
    "print(first_halve,\"\\n\",second_halve)\n",
    "#task 2\n",
    "#for letters:\"e\" and \"a\" in random-tip\n",
    "#print letter counts\n",
    "#print which letter is most frequent\n",
    "random_tip= \"wear a hat when it rains\"\n",
    "count_e=random_tip.count(\"e\")\n",
    "count_a=random_tip.count(\"a\")\n",
    "print(count_e, \"\\n\",count_a)\n",
    "if count_e > count_a:\n",
    "    print(\"Letter 'e' is most frequent\", count_e)\n",
    "else:\n",
    "    print(\"Letter 'a' is most frequent\", count_a)\n",
    "#task 3\n",
    "#print long_word from the location of the first and second 't'\n",
    "long_word=\"juxtaposition\"\n",
    "print(long_word[long_word.find(\"t\"):long_word.find(\"i\",-3,)])"
   ]
  },
  {
   "cell_type": "code",
   "execution_count": 8,
   "metadata": {},
   "outputs": [
    {
     "name": "stdout",
     "output_type": "stream",
     "text": [
      "u\n",
      "J\n",
      "The first letter is J  while the last letter is r\n",
      "J\n",
      "the first three character is Nep while the remaining is tune\n",
      "Pa twooes\n",
      "enutpeN\n",
      "I\n",
      "n\n",
      "d\n",
      "o\n",
      "m\n",
      "i\n",
      "e\n",
      "G-\n",
      "o-\n",
      "o-\n",
      "d-\n",
      " -\n",
      "c-\n",
      "o-\n",
      "d-\n",
      "e-\n",
      " -\n",
      "i-\n",
      "s-\n",
      " -\n",
      "c-\n",
      "o-\n",
      "m-\n",
      "m-\n",
      "e-\n",
      "n-\n",
      "t-\n",
      "e-\n",
      "d-\n",
      " -\n",
      "c-\n",
      "o-\n",
      "d-\n",
      "e-\n",
      "H\n",
      "i\n",
      "r\n",
      "o\n"
     ]
    }
   ],
   "source": [
    "#task1\n",
    "planet_name=\"Jupiter\"\n",
    "print(planet_name[1])\n",
    "print(planet_name[0])\n",
    "print(\"The first letter is\",planet_name[0],\" while the last letter is\", planet_name[-1])\n",
    "print(planet_name[-7])\n",
    "#task 2\n",
    "planet_name=\"Neptune\"\n",
    "print(\"the first three character is\", planet_name[:3],\"while the remaining is\", planet_name[3:])\n",
    "wise_word=\"Play it who opens\"\n",
    "print(wise_word[::2])\n",
    "print(planet_name[::-1])\n",
    "fav_food=\"Indomie\"\n",
    "for letter in fav_food:\n",
    "    print(letter)\n",
    "work_tip=\"Good code is commented code\"\n",
    "new_string=\"-\"\n",
    "for letter in work_tip:\n",
    "    print(letter+new_string)\n",
    "name=\"Hiroto\"\n",
    "for alpha in name[:4]:\n",
    "    print(alpha)\n",
    "\n",
    "    "
   ]
  },
  {
   "cell_type": "code",
   "execution_count": 3,
   "metadata": {},
   "outputs": [
    {
     "name": "stdout",
     "output_type": "stream",
     "text": [
      "n\n",
      "u\n",
      "g\n",
      "?\n",
      "k\n",
      "A\n"
     ]
    }
   ],
   "source": [
    "#task 4\n",
    "first_name=\"Akogun\"\n",
    "new_name=\"\"\n",
    "back_name= (first_name[::-1])\n",
    "for letter in back_name:\n",
    "    if letter.lower()==\"e\":\n",
    "        print(\"?\")\n",
    "    elif letter.lower()==\"o\":\n",
    "        print(\"?\")\n",
    "    else:\n",
    "        print(new_name+letter)"
   ]
  },
  {
   "cell_type": "code",
   "execution_count": 5,
   "metadata": {},
   "outputs": [
    {
     "name": "stdout",
     "output_type": "stream",
     "text": [
      "W\n",
      "h\n",
      "e\n",
      "r\n",
      "e\n",
      "s\n",
      "o\n",
      "v\n",
      "e\n",
      "r\n",
      " \n",
      "y\n",
      "o\n",
      "u\n",
      " \n",
      "g\n",
      "o\n",
      ",\n",
      " \n",
      "g\n",
      "o\n",
      " \n",
      "w\n",
      "i\n",
      "t\n",
      "h\n",
      " \n",
      "u\n",
      "r\n",
      " \n",
      "h\n",
      "e\n",
      "a\n",
      "r\n",
      "t\n"
     ]
    }
   ],
   "source": [
    "qoute= \"Wheresover you go, go with ur heart\"\n",
    "word=\"\"\n",
    "for character in qoute:\n",
    "    if qoute[0].lower()>=\"h\":\n",
    "        print(word+character)\n",
    "    elif qoute[11].lower()>=\"h\":\n",
    "        print(word+character)\n",
    "    elif qoute[15].lower()>=\"h\":\n",
    "        print(word+character)\n",
    "    elif qoute[19].lower()>=\"h\":\n",
    "        print(word+character)\n",
    "    elif qoute[22].lower()>=\"h\":\n",
    "        print(word+character)\n",
    "    elif qoute[27].lower()>=\"h\":\n",
    "        print(word+character)\n",
    "    elif qoute[30].lower()>=\"h\":\n",
    "        print(word+character)\n",
    "    else:\n",
    "        print(word)\n",
    "    \n"
   ]
  },
  {
   "cell_type": "code",
   "execution_count": 2,
   "metadata": {},
   "outputs": [
    {
     "name": "stdout",
     "output_type": "stream",
     "text": [
      "ft_bones: <class 'list'>\n",
      "['calcaneus', 'talus', 'cuboid', 'navicular', 'lateral cuneiform', 'intermediate cuneiform', 'medial cuneiform']\n",
      "age_survey: <class 'list'>\n",
      "[12, 14, 12, 29, 12, 14, 12, 12, 13, 12, 14, 13, 13, 46, 13, 12, 12, 13, 13, 12, 12]\n",
      "mixed_list: <class 'list'>\n",
      "[1, 34, 0.999, 'dog', 'cat', ['calcaneus', 'talus', 'cuboid', 'navicular', 'lateral cuneiform', 'intermediate cuneiform', 'medial cuneiform'], [12, 14, 12, 29, 12, 14, 12, 12, 13, 12, 14, 13, 13, 46, 13, 12, 12, 13, 13, 12, 12]]\n"
     ]
    }
   ],
   "source": [
    "#list\n",
    "#a simple list contains comma seperated objects enclosed in square brackets\n",
    "ft_bones=[\"calcaneus\", \"talus\", \"cuboid\",\"navicular\", \"lateral cuneiform\",\"intermediate cuneiform\", \"medial cuneiform\"]\n",
    "#display\n",
    "print(\"ft_bones:\",type(ft_bones))\n",
    "print(ft_bones)\n",
    "#define list of integers\n",
    "age_survey=[12,14,12,29,12,14,12,12,13,12,14,13,13,46,13,12,12,13,13,12,12]\n",
    "print(\"age_survey:\",type(age_survey))\n",
    "print(age_survey)\n",
    "#define list of mixed data type\n",
    "mixed_list=[1,34,0.999,\"dog\",\"cat\",ft_bones,age_survey]\n",
    "print(\"mixed_list:\",type(mixed_list))\n",
    "print(mixed_list)"
   ]
  },
  {
   "cell_type": "code",
   "execution_count": 3,
   "metadata": {},
   "outputs": [
    {
     "name": "stdout",
     "output_type": "stream",
     "text": [
      "['chelsea', 'Barcelona', 'Arsenal', 'Liverpool', 'PSG']\n",
      "[1, 3.56, 'apple', ['chelsea', 'Barcelona', 'Arsenal', 'Liverpool', 'PSG']]\n"
     ]
    }
   ],
   "source": [
    "#task1\n",
    "#create team_names list and populate with 3-5 team name strings\n",
    "#print the list\n",
    "team_names=[\"chelsea\",\"Barcelona\",\"Arsenal\",\"Liverpool\",\"PSG\"]\n",
    "print(team_names)\n",
    "#create a list mix_list with numbers and strings with 4-6 items\n",
    "#print the list\n",
    "mix_list=[1,3.56, \"apple\",team_names]\n",
    "print(mix_list)"
   ]
  },
  {
   "cell_type": "code",
   "execution_count": 11,
   "metadata": {},
   "outputs": [
    {
     "name": "stdout",
     "output_type": "stream",
     "text": [
      "No Parking on Bisiolu and Prophet Adebayo\n",
      "28\n",
      "Total of checks 3&4= $ 7\n"
     ]
    }
   ],
   "source": [
    "#task 2: List access\n",
    "Street=[\"Bisiolu\", \"Ademola\",\"iledu\",\"Adeyemi\",\"Prophet Adebayo\"]\n",
    "print(\"No Parking on\", Street[0],\"and\", Street[4])\n",
    "number=[1,2,3,4,5,6,7,8,9,10,11]\n",
    "num_to_add=(number[0]+number[3]+number[4]+number[7]+number[9])\n",
    "print(num_to_add)\n",
    "pay_checks=[1,2,3,4,5,6]\n",
    "print(\"Total of checks 3&4= $\",pay_checks[2]+pay_checks[3])"
   ]
  },
  {
   "cell_type": "code",
   "execution_count": 13,
   "metadata": {},
   "outputs": [
    {
     "name": "stdout",
     "output_type": "stream",
     "text": [
      "sample_list before: [1, 1, 2]\n",
      "sample_list after: [1, 1, 2, 3]\n"
     ]
    }
   ],
   "source": [
    "sample_list=[1,1,2]\n",
    "print(\"sample_list before:\",sample_list)\n",
    "sample_list.append(3)\n",
    "#list after append\n",
    "print(\"sample_list after:\", sample_list)"
   ]
  },
  {
   "cell_type": "code",
   "execution_count": null,
   "metadata": {},
   "outputs": [
    {
     "name": "stdout",
     "output_type": "stream",
     "text": [
      "[2.1, 3.4, 5.2]\n",
      "[2.1, 3.4, 5.2, 2.7]\n",
      "['naira', 'dollar', 'euro']\n",
      "['naira', 'dollar', 'euro', 'shillings']\n"
     ]
    }
   ],
   "source": [
    "cur_values=[2.1,3.4,5.2]\n",
    "print(cur_values)\n",
    "cur_values.append(2.7)\n",
    "print(cur_values)\n",
    "cur_names=[\"naira\", \"dollar\",\"euro\"]\n",
    "print(cur_names)\n",
    "cur_names.append(\"shillings\")\n",
    "print(cur_names)\n",
    "cur_names.append(input())\n",
    "print(cur_names)\n"
   ]
  },
  {
   "cell_type": "code",
   "execution_count": 1,
   "metadata": {},
   "outputs": [
    {
     "name": "stdout",
     "output_type": "stream",
     "text": [
      "Enter Birth day or 'q' to QUIT:  12\n",
      "Birth month in word:  january\n",
      "your birth day and month is ['12', 'january']\n",
      "press 'q' to quit:   q\n",
      "THANKS FOR PARTICIPATING\n"
     ]
    }
   ],
   "source": [
    "#while loop\n",
    "bday_survey=[]\n",
    "bday=input(\"Enter Birth day or 'q' to QUIT:  \")\n",
    "while bday.lower() !=\"q\":\n",
    "    bday_survey.append(bday)\n",
    "    bday=input(\"Birth month in word:  \")\n",
    "    bday_survey.append(bday)\n",
    "    print(\"your birth day and month is\", bday_survey)\n",
    "    bday=input(\"press 'q' to quit:   \")\n",
    "print(\"THANKS FOR PARTICIPATING\")"
   ]
  },
  {
   "cell_type": "code",
   "execution_count": 3,
   "metadata": {},
   "outputs": [
    {
     "name": "stdout",
     "output_type": "stream",
     "text": [
      "party_list before: ['Joana', 'Alton', 'Tobias']\n",
      "party_list after: ['Joana', 'Colette', 'Tobias']\n",
      "\n",
      "after: ['Joana', 'AltonDerosa', 'Tobias']\n"
     ]
    }
   ],
   "source": [
    "#replace a value #insert\n",
    "party_list=[\"Joana\", \"Alton\",\"Tobias\"]\n",
    "print(\"party_list before:\", party_list)\n",
    "party_list[1]=\"Colette\"\n",
    "print(\"party_list after:\",party_list)\n",
    "party_list=[\"Joana\", \"Alton\",\"Tobias\"]\n",
    "party_list[1]=party_list[1]+\"Derosa\"\n",
    "print(\"\\nafter:\",party_list)"
   ]
  },
  {
   "cell_type": "code",
   "execution_count": 10,
   "metadata": {},
   "outputs": [
    {
     "name": "stdout",
     "output_type": "stream",
     "text": [
      "['zero', 'one', 'two', 'three', 'four', 'five']\n",
      "single_digit[3]: three\n",
      "['zero', 'one', 'two', 3, 'four', 'five']\n",
      "single_digit[3]: ['zero', 'one', 'two', 3, 'four', 'five']\n"
     ]
    },
    {
     "data": {
      "text/plain": [
       "int"
      ]
     },
     "execution_count": 10,
     "metadata": {},
     "output_type": "execute_result"
    }
   ],
   "source": [
    "single_digit=[\"zero\",\"one\",\"two\",\"three\",\"four\",\"five\"]\n",
    "print(single_digit)\n",
    "print(\"single_digit[3]:\",single_digit[3])\n",
    "type(single_digit[3])\n",
    "single_digit[3]=3\n",
    "print(single_digit)\n",
    "print(\"single_digit[3]:\",single_digit)\n",
    "type(single_digit[3])"
   ]
  },
  {
   "cell_type": "code",
   "execution_count": 17,
   "metadata": {},
   "outputs": [
    {
     "name": "stdout",
     "output_type": "stream",
     "text": [
      "the three numbers are: [2, 4, 6]\n",
      "['small', 4, 6]\n"
     ]
    }
   ],
   "source": [
    "#task 1\n",
    "three_num=[2,4,6]\n",
    "print(\"the three numbers are:\", three_num)\n",
    "if three_num[0] < 5:\n",
    "    three_num[0]=\"small\"\n",
    "else:\n",
    "    three_num[0]=\"large\"\n",
    "print(three_num)"
   ]
  },
  {
   "cell_type": "code",
   "execution_count": 21,
   "metadata": {},
   "outputs": [
    {
     "name": "stdout",
     "output_type": "stream",
     "text": [
      "['Joana', 'Alton', 'Tobias']\n",
      "Hello, Tobias\n",
      "\n",
      " ['Joana', 'Alton']\n",
      "Hello, Alton\n",
      "\n",
      " ['Joana']\n",
      "Hello, Joana\n",
      "\n",
      " []\n",
      "before: [11, 21, 13, 14, 51, 161, 117, 181]\n",
      "after: [11, 21, 13, 51, 161, 117, 181]\n",
      "list before: [11, 21, 13, 14, 51, 161, 117, 181]\n",
      "list after: [11, 21, 13, 14, 51, 161]\n",
      "add the popped values: 181 + 117 = 298\n",
      "list of bones before: ['calcaneus', 'talus', 'cuboid', 'navicular', 'lateral cuneiform', 'intermediate cuneiform', 'medial cuneiform']\n",
      "list of bones after: ['talus', 'cuboid', 'navicular', 'lateral cuneiform', 'intermediate cuneiform']\n",
      "First bone: calcaneus\n",
      "last bone: medial cuneiform\n"
     ]
    }
   ],
   "source": [
    "#.pop()\n",
    "party_list=[\"Joana\",\"Alton\",\"Tobias\"]\n",
    "print(party_list)\n",
    "print(\"Hello,\",party_list.pop())\n",
    "print(\"\\n\",party_list)\n",
    "print(\"Hello,\",party_list.pop())\n",
    "print(\"\\n\",party_list)\n",
    "print(\"Hello,\",party_list.pop())\n",
    "print(\"\\n\",party_list)\n",
    "\n",
    "number_list=[11,21,13,14,51,161,117,181]\n",
    "print(\"before:\",number_list)\n",
    "number_list.pop(3)\n",
    "print(\"after:\",number_list)\n",
    "number_list=[11,21,13,14,51,161,117,181]\n",
    "print(\"list before:\",number_list)\n",
    "num_1=number_list.pop()\n",
    "num_2=number_list.pop()\n",
    "print(\"list after:\",number_list)\n",
    "print(\"add the popped values:\", num_1,\"+\",num_2,\"=\",num_1+num_2)\n",
    "ft_bones=[\"calcaneus\", \"talus\", \"cuboid\",\"navicular\", \"lateral cuneiform\",\"intermediate cuneiform\", \"medial cuneiform\"]\n",
    "print(\"list of bones before:\",ft_bones)\n",
    "first_bone=ft_bones.pop(0)\n",
    "last_bone=ft_bones.pop()\n",
    "print(\"list of bones after:\",ft_bones)\n",
    "print(\"First bone:\", first_bone)\n",
    "print(\"last bone:\", last_bone)"
   ]
  },
  {
   "cell_type": "code",
   "execution_count": 23,
   "metadata": {},
   "outputs": [
    {
     "name": "stdout",
     "output_type": "stream",
     "text": [
      "Poodle\n",
      "Pug\n",
      "Lab\n"
     ]
    }
   ],
   "source": [
    "#an empty list is false\n",
    "dog_types=[\"Lab\",\"Pug\",\"Poodle\"]\n",
    "while dog_types:\n",
    "    print(dog_types.pop())"
   ]
  },
  {
   "cell_type": "code",
   "execution_count": 1,
   "metadata": {},
   "outputs": [
    {
     "name": "stdout",
     "output_type": "stream",
     "text": [
      "Price of purchased goods:  20\n",
      "Enter next:  30\n",
      "Enter next:  50\n",
      "Enter next:  40\n",
      "Enter next:  23\n",
      "Enter next:  43\n",
      "Enter next:  21\n",
      "Enter next:  54\n",
      "Enter next:  32\n",
      "Enter next:  done\n",
      "thanks for recording\n",
      "The purchased amount is given by in $: ['20', '30', '50', '40', '23', '43', '21', '54', '32']\n",
      "32.0\n",
      "86.0\n",
      "107.0\n",
      "150.0\n",
      "173.0\n",
      "213.0\n",
      "263.0\n",
      "293.0\n",
      "313.0\n",
      "subtotal=   313.0\n"
     ]
    }
   ],
   "source": [
    "#task 4\n",
    "purchase_amounts=[]\n",
    "price_item=input(\"Price of purchased goods:  \")\n",
    "while price_item.lower() != \"done\":\n",
    "    purchase_amounts.append(price_item)\n",
    "    price_item=input(\"Enter next:  \")\n",
    "print(\"thanks for recording\")\n",
    "print(\"The purchased amount is given by in $:\", purchase_amounts)\n",
    "subtotal=0\n",
    "while purchase_amounts !=[]:\n",
    "    subtotal=subtotal+float(purchase_amounts.pop())\n",
    "    print(subtotal)\n",
    "print(\"subtotal=  \",subtotal)"
   ]
  },
  {
   "cell_type": "code",
   "execution_count": 4,
   "metadata": {},
   "outputs": [
    {
     "name": "stdout",
     "output_type": "stream",
     "text": [
      "35.0\n",
      "60.0\n",
      "100.0\n",
      "130.0\n",
      "150.0\n",
      "subtotal=   150.0\n"
     ]
    }
   ],
   "source": [
    "purchase_amount=[20,30,40,25,35]\n",
    "subtotal=0\n",
    "while purchase_amount !=[]:\n",
    "    subtotal=subtotal+float(purchase_amount.pop())\n",
    "    print(subtotal)\n",
    "print(\"subtotal=  \",subtotal)"
   ]
  },
  {
   "cell_type": "code",
   "execution_count": 2,
   "metadata": {},
   "outputs": [
    {
     "name": "stdout",
     "output_type": "stream",
     "text": [
      "['lab', 'Poodle']\n",
      "list of dog before: ['lab', 'pug', 'poodle', 'poodle', 'pug', 'poodle']\n",
      "list of dog after: ['lab', 'pug', 'poodle', 'pug', 'poodle']\n"
     ]
    }
   ],
   "source": [
    "#remove()\n",
    "dog_types=[\"lab\",\"pug\",\"Poodle\"]\n",
    "if \"pug\" in dog_types:\n",
    "    dog_types.remove(\"pug\")\n",
    "else:\n",
    "    print(\"no pug found\")\n",
    "print(dog_types)\n",
    "#task\n",
    "dogs=[\"lab\",\"pug\", \"poodle\",\"poodle\",\"pug\",\"poodle\"]\n",
    "print(\"list of dog before:\", dogs)\n",
    "dogs.remove(\"poodle\")\n",
    "print(\"list of dog after:\", dogs)"
   ]
  },
  {
   "cell_type": "code",
   "execution_count": 17,
   "metadata": {},
   "outputs": [
    {
     "name": "stdout",
     "output_type": "stream",
     "text": [
      "['sunday', 'monday', 'tuesday', 'wednesday', 'thursday', 'friday', 'saturday']\n",
      "index 1: monday\n",
      "index 3: wednesday\n",
      "index 5: friday\n",
      "['', '', 'ABC', 'DEF', 'GHI', 'JKL', 'MNO', 'PQRS', 'TUV', 'WXYZ']\n",
      "day assigned:  tuesday\n",
      "day with index 5 assigned:  friday\n",
      "['sunday', 'monday', 'tuesday', 'wednesday', 'thursday', 'friday', 'saturday', 'Endsday']\n",
      "'new day' keep appending and index keep increasing\n",
      "either by removing using the 'for' loop or using the '.pop()' with while loop\n",
      "['sunday', 'monday', 'tuesday', 'wednesday', 'Midsday', 'thursday', 'friday', 'saturday', 'Endsday']\n",
      "['sunday', 'monday', 'tuesday', 'wednesday', 'Midsday', 'thursday', 'friday', 'Resterday', 'saturday', 'Endsday']\n",
      "['sunday', 'monday', 'tuesday', 'wednesday', 'Midsday', 'thursday', 'friday', 'Resterday', 'saturday']\n",
      "['sunday', 'monday', 'tuesday', 'wednesday', 'thursday', 'friday', 'Resterday', 'saturday']\n",
      "['sunday', 'monday', 'tuesday', 'wednesday', 'thursday', 'friday', 'saturday']\n"
     ]
    }
   ],
   "source": [
    "#practice\n",
    "days_of_week= [\"sunday\",\"monday\",\"tuesday\",\"wednesday\",\"thursday\",\"friday\",\"saturday\"]\n",
    "print(days_of_week)\n",
    "print(\"index 1:\", days_of_week[1])\n",
    "print(\"index 3:\", days_of_week[3])\n",
    "print(\"index 5:\", days_of_week[5])\n",
    "phone_letters=[\"\",'','ABC', 'DEF','GHI','JKL','MNO','PQRS','TUV','WXYZ']\n",
    "print(phone_letters)\n",
    "\n",
    "#Access list\n",
    "days_of_week= [\"sunday\",\"monday\",\"tuesday\",\"wednesday\",\"thursday\",\"friday\",\"saturday\"]\n",
    "day=days_of_week[2]\n",
    "print(\"day assigned: \",day)\n",
    "\n",
    "#PART 2\n",
    "days_of_week= [\"sunday\",\"monday\",\"tuesday\",\"wednesday\",\"thursday\",\"friday\",\"saturday\"]\n",
    "day=days_of_week[5]\n",
    "print(\"day with index 5 assigned: \",day)\n",
    "\n",
    "#Append and Insert items into a list\n",
    "days_of_week= [\"sunday\",\"monday\",\"tuesday\",\"wednesday\",\"thursday\",\"friday\",\"saturday\"]\n",
    "days_of_week.append(\"Endsday\")\n",
    "print(days_of_week)\n",
    "\n",
    "#What happens if you keep running the cell above\n",
    "print(\"'new day' keep appending and index keep increasing\")\n",
    "\n",
    "#How can you return to the initial stage of days of week\n",
    "print(\"either by removing using the 'for' loop or using the '.pop()' with while loop\")\n",
    "\n",
    "days_of_week.insert(4,\"Midsday\")\n",
    "print(days_of_week)\n",
    "\n",
    "days_of_week.insert(7,\"Resterday\")\n",
    "print(days_of_week)\n",
    "\n",
    "#Delete from a list\n",
    "days_of_week.pop()\n",
    "print(days_of_week)\n",
    "\n",
    "#delete the new day added in the middle\n",
    "del days_of_week[4]\n",
    "print(days_of_week)\n",
    "\n",
    "#programmers choice\n",
    "days_of_week.pop(6)\n",
    "print(days_of_week)"
   ]
  },
  {
   "cell_type": "code",
   "execution_count": 3,
   "metadata": {},
   "outputs": [
    {
     "name": "stdout",
     "output_type": "stream",
     "text": [
      "['', '', 'ABC', 'DEF', 'GHI', 'JKL', 'MNO', 'PQRS', 'TUV', 'WXYZ']\n",
      "quit\n",
      "\n",
      " Enter your phone dial pad\n",
      "1\n"
     ]
    },
    {
     "ename": "TypeError",
     "evalue": "'builtin_function_or_method' object is not subscriptable",
     "output_type": "error",
     "traceback": [
      "\u001b[1;31m---------------------------------------------------------------------------\u001b[0m",
      "\u001b[1;31mTypeError\u001b[0m                                 Traceback (most recent call last)",
      "Input \u001b[1;32mIn [3]\u001b[0m, in \u001b[0;36m<module>\u001b[1;34m\u001b[0m\n\u001b[0;32m     15\u001b[0m                 \u001b[38;5;28mprint\u001b[39m(letter)\n\u001b[0;32m     16\u001b[0m \u001b[38;5;28mprint\u001b[39m(\u001b[38;5;124m\"\u001b[39m\u001b[38;5;124mquit\u001b[39m\u001b[38;5;124m\"\u001b[39m)\n\u001b[1;32m---> 18\u001b[0m \u001b[43mlet_to_num\u001b[49m\u001b[43m(\u001b[49m\u001b[43m)\u001b[49m\n",
      "Input \u001b[1;32mIn [3]\u001b[0m, in \u001b[0;36mlet_to_num\u001b[1;34m()\u001b[0m\n\u001b[0;32m      6\u001b[0m \u001b[38;5;28;01mwhile\u001b[39;00m \u001b[38;5;28;01mTrue\u001b[39;00m:\n\u001b[0;32m      7\u001b[0m     key\u001b[38;5;241m=\u001b[39m\u001b[38;5;28minput\u001b[39m(\u001b[38;5;124m\"\u001b[39m\u001b[38;5;130;01m\\n\u001b[39;00m\u001b[38;5;124m Enter your phone dial pad\u001b[39m\u001b[38;5;130;01m\\n\u001b[39;00m\u001b[38;5;124m\"\u001b[39m)\n\u001b[1;32m----> 8\u001b[0m     \u001b[38;5;28;01mfor\u001b[39;00m key \u001b[38;5;129;01min\u001b[39;00m \u001b[43mphone_letters\u001b[49m\u001b[38;5;241;43m.\u001b[39;49m\u001b[43mindex\u001b[49m\u001b[43m[\u001b[49m\u001b[43mkey\u001b[49m\u001b[43m]\u001b[49m:\n\u001b[0;32m      9\u001b[0m         \u001b[38;5;28;01mbreak\u001b[39;00m\n\u001b[0;32m     10\u001b[0m         \u001b[38;5;28;01mif\u001b[39;00m \u001b[38;5;28mint\u001b[39m(key) \u001b[38;5;241m<\u001b[39m \u001b[38;5;241m0\u001b[39m \u001b[38;5;129;01mor\u001b[39;00m \u001b[38;5;28mint\u001b[39m(key) \u001b[38;5;241m>\u001b[39m \u001b[38;5;241m9\u001b[39m:\n",
      "\u001b[1;31mTypeError\u001b[0m: 'builtin_function_or_method' object is not subscriptable"
     ]
    }
   ],
   "source": [
    "letter=[]\n",
    "phone_letters=[\"\",'','ABC', 'DEF','GHI','JKL','MNO','PQRS','TUV','WXYZ']\n",
    "print(phone_letters)\n",
    "\n",
    "def let_to_num():\n",
    "    while True:\n",
    "        key=input(\"\\n Enter your phone dial pad\\n\")\n",
    "        for key in phone_letters[key]:\n",
    "            break\n",
    "            if int(key) < 0 or int(key) > 9:\n",
    "                print('invalid parameter')\n",
    "            else:\n",
    "                letter=phone_letter[key]\n",
    "                key=key + 1\n",
    "                print(letter)\n",
    "print(\"quit\")\n",
    "\n",
    "let_to_num()\n"
   ]
  },
  {
   "cell_type": "code",
   "execution_count": 36,
   "metadata": {},
   "outputs": [
    {
     "name": "stdout",
     "output_type": "stream",
     "text": [
      "total sales: 124\n",
      "duck\n",
      "bat\n",
      "eagle\n",
      "fowl\n",
      "vulture\n",
      "double point: [4, 6, 10, 12, 8, 16, 14]\n",
      "Long_String: ['duckduck', 'batbat', 'eagleeagle', 'fowlfowl', 'vulturevulture']\n"
     ]
    }
   ],
   "source": [
    "#for/in\n",
    "sales=[6,8,9,11,12,17,19,20,22]\n",
    "total=0\n",
    "for sale in sales:\n",
    "    total+=sale\n",
    "print(\"total sales:\",total)\n",
    "#task 1\n",
    "birds=[\"duck\",\"bat\",\"eagle\",\"fowl\",\"vulture\"]\n",
    "for bird in birds:\n",
    "    print(bird)\n",
    "player_points=[2,3,5,6,4,8,7]\n",
    "double=[]\n",
    "for point in player_points:\n",
    "    double_point=2*point\n",
    "    double.append(double_point)\n",
    "print(\"double point:\",double)\n",
    "birds=[\"duck\",\"bat\",\"eagle\",\"fowl\",\"vulture\"]\n",
    "Long_string=[]\n",
    "for bird in birds:\n",
    "    lng_string= bird+bird\n",
    "    Long_string.append(lng_string)\n",
    "print(\"Long_String:\",Long_string)"
   ]
  },
  {
   "cell_type": "code",
   "execution_count": 39,
   "metadata": {},
   "outputs": [
    {
     "name": "stdout",
     "output_type": "stream",
     "text": [
      "\n",
      "calcaneus\n",
      "talus\n",
      "cuboid\n",
      "navicular\n",
      "\n",
      "lateral cuneiform\n",
      "intermediate cuneiform\n",
      "medial cuneiform\n",
      "['calcaneus', 'talus', 'cuboid', 'navicular']\n",
      "['lateral cuneiform', 'intermediate cuneiform', 'medial cuneiform']\n"
     ]
    }
   ],
   "source": [
    "#sort and filter\n",
    "foot_bones=[\"calcaneus\", \"talus\", \"cuboid\",\"navicular\", \"lateral cuneiform\",\"intermediate cuneiform\", \"medial cuneiform\"]\n",
    "longer_names=\"\"\n",
    "shorter_names=\"\"\n",
    "for bone_name in foot_bones:\n",
    "    if len(bone_name)<10:\n",
    "        shorter_names+=\"\\n\"+bone_name\n",
    "    else:\n",
    "        longer_names+=\"\\n\"+bone_name\n",
    "print(shorter_names)\n",
    "print(longer_names)\n",
    "foot_bones=[\"calcaneus\", \"talus\", \"cuboid\",\"navicular\", \"lateral cuneiform\",\"intermediate cuneiform\", \"medial cuneiform\"]\n",
    "longer_names=[]\n",
    "shorter_names=[]\n",
    "for bone_name in foot_bones:\n",
    "    if len(bone_name)<10:\n",
    "        shorter_names.append(bone_name)\n",
    "    else:\n",
    "        longer_names.append(bone_name)\n",
    "print(shorter_names)\n",
    "print(longer_names)"
   ]
  },
  {
   "cell_type": "code",
   "execution_count": 41,
   "metadata": {},
   "outputs": [
    {
     "name": "stdout",
     "output_type": "stream",
     "text": [
      "The following city contains 'a' in them: ['Shanghai', 'Dubai', 'Sao Paulo', 'Hyderabad']\n",
      "The following city does not contain 'a' in them: ['New York', 'Munich', 'Tokyo', 'Mexico City']\n"
     ]
    }
   ],
   "source": [
    "#task 2\n",
    "cities=[\"New York\",\"Shanghai\",\"Munich\",\"Tokyo\",\"Dubai\",\"Mexico City\",\"Sao Paulo\",\"Hyderabad\"]\n",
    "a_city=[]\n",
    "no_a_city=[]\n",
    "for city in cities:\n",
    "    if \"a\" in city:\n",
    "        a_city.append(city)\n",
    "    else:\n",
    "        no_a_city.append(city)\n",
    "print(\"The following city contains 'a' in them:\",a_city)\n",
    "print(\"The following city does not contain 'a' in them:\",no_a_city)"
   ]
  },
  {
   "cell_type": "code",
   "execution_count": 43,
   "metadata": {},
   "outputs": [
    {
     "name": "stdout",
     "output_type": "stream",
     "text": [
      "The total # of \"a\" found in the list is 7\n"
     ]
    }
   ],
   "source": [
    "#counting and searching\n",
    "cities=[\"New York\",\"Shanghai\",\"Munich\",\"Tokyo\",\"Dubai\",\"Mexico City\",\"Sao Paulo\",\"Hyderabad\"]\n",
    "search_letter=\"a\"\n",
    "total=0\n",
    "for city_name in cities:\n",
    "    total+=city_name.lower().count(search_letter)\n",
    "print(\"The total # of \\\"\"+search_letter+\"\\\" found in the list is\",total)"
   ]
  },
  {
   "cell_type": "code",
   "execution_count": 45,
   "metadata": {},
   "outputs": [
    {
     "name": "stdout",
     "output_type": "stream",
     "text": [
      "enter a city visited:dubai\n",
      "dubai in default  cities is False\n",
      "dubai in visited_cities list is True\n"
     ]
    }
   ],
   "source": [
    "#city_search function has a default list of cities to search\n",
    "def city_search(search_item,cities=[\"New York\",\"Shanghai\",\"Munich\",\"Tokyo\"]):\n",
    "    for city in cities:\n",
    "        if city.lower()==search_item.lower():\n",
    "            return True\n",
    "        else:\n",
    "            pass\n",
    "    return False\n",
    "visited_cities=[\"New York\",\"Shanghai\",\"Munich\",\"Tokyo\",\"Dubai\",\"Mexico City\",\"Sao Paulo\",\"Hyderabad\"]\n",
    "search=input(\"enter a city visited:\")\n",
    "#search the default cities visited\n",
    "print(search, \"in default  cities is\",city_search(search))\n",
    "\n",
    "#search the list visited_cities using 2nd arg\n",
    "print(search,\"in visited_cities list is\",city_search(search,visited_cities))\n",
    "    "
   ]
  },
  {
   "cell_type": "code",
   "execution_count": 94,
   "metadata": {},
   "outputs": [
    {
     "name": "stdout",
     "output_type": "stream",
     "text": [
      "Request a color:blue\n",
      "status of color not found\n",
      "status of color found\n",
      "blue\n"
     ]
    }
   ],
   "source": [
    "#task 3\n",
    "paint_colors=[\"Red\",\"Blue\",\"Green\",\"Brown\",\"Yellow\"]\n",
    "color_request=input(\"Request a color:\")\n",
    "\n",
    "col_not_found=\"status of color not found\"\n",
    "for color in paint_colors:\n",
    "    if color_request.lower() == color.lower():\n",
    "        print(\"status of color found\")\n",
    "        break\n",
    "    else:\n",
    "        print(\"status of color not found\")\n",
    "print(color_request)"
   ]
  },
  {
   "cell_type": "code",
   "execution_count": null,
   "metadata": {},
   "outputs": [],
   "source": [
    "def foot_bones(bone_answer, ft_bones=[\"calcaneus\", \"talus\", \"cuboid\",\"navicular\", \"lateral cuneiform\",\"intermediate cuneiform\", \"medial cuneiform\"]):\n",
    "    for bone in ft_bones:\n",
    "            if bone.lower() == bone_answer.lower():\n",
    "                print(\"correct\")\n",
    "            else:\n",
    "                pass\n",
    "            print(\"not correct\")\n",
    "answer=input(\"identify a foot bone:\")\n",
    "ft_boness=ft_bones.remove(answer)\n",
    "print(answer,\"in first attempt:  \",foot_bones(answer))\n",
    "print(answer,\"in second attempt:  \",foot_bones(answer,ft_boness))\n",
    "\n",
    "        \n",
    "        \n"
   ]
  },
  {
   "cell_type": "code",
   "execution_count": 35,
   "metadata": {},
   "outputs": [
    {
     "name": "stdout",
     "output_type": "stream",
     "text": [
      "0\n",
      "1\n",
      "2\n",
      "3\n",
      "4\n",
      "5\n",
      "6\n",
      "7\n",
      "8\n",
      "9\n",
      "digits= [0, 1, 2, 3, 4, 5, 6, 7, 8, 9] \n",
      "\n",
      "sub_total: 0\n",
      "sub_total: 1\n",
      "sub_total: 3\n",
      "sub_total: 6\n",
      "sub_total: 10\n",
      "sub_total: 15\n",
      "sub_total: 21\n",
      "sub_total: 28\n",
      "sub_total: 36\n",
      "sub_total: 45\n",
      "Total= 45\n",
      "Tuesday\n",
      "Wednesday\n",
      "February\n",
      "November\n",
      "Annual\n",
      "Calender\n",
      "Solstice\n"
     ]
    }
   ],
   "source": [
    "#range(stop)\n",
    "for count in range(10):\n",
    "    print(count)\n",
    "digits=range(10)\n",
    "print(\"digits=\",list(digits),\"\\n\")\n",
    "sub_total=0\n",
    "for item in range(10):\n",
    "    sub_total+=item\n",
    "    print(\"sub_total:\",sub_total)\n",
    "print(\"Total=\",sub_total)\n",
    "\n",
    "spell_list=[\"Tuesday\",\"Wednesday\",\"February\",\"November\",\"Annual\",\"Calender\",\"Solstice\"]\n",
    "half_1=int(len(spell_list)/2)\n",
    "spell_list_2=spell_list[half_1:]\n",
    "half_2=len(spell_list_2)\n",
    "for word in range(half_1):\n",
    "    print(spell_list[word])\n",
    "\n",
    "for word in range(half_2):\n",
    "    print(spell_list_2[word])"
   ]
  },
  {
   "cell_type": "code",
   "execution_count": 30,
   "metadata": {},
   "outputs": [
    {
     "name": "stdout",
     "output_type": "stream",
     "text": [
      "digit of x: [0, 1, 2, 3, 4, 5]\n",
      "solving gamma interger\n",
      "enter the number:6\n",
      "value of x: [1, 2, 3, 4, 5] \n",
      "\n",
      "gamma of x=   120 \n",
      "\n"
     ]
    }
   ],
   "source": [
    "#task 1\n",
    "x=6\n",
    "digit=range(x)\n",
    "print(\"digit of x:\",list(digit))\n",
    "print(\"solving gamma interger\")\n",
    "x=input(\"enter the number:\")\n",
    "digit=range(int(x))\n",
    "prod=1\n",
    "digit_to_mult=digit[1:]\n",
    "for value in digit_to_mult:\n",
    "    prod*=value\n",
    "print(\"value of x:\", list(digit_to_mult),\"\\n\")\n",
    "print(\"gamma of x=  \",prod, \"\\n\")"
   ]
  },
  {
   "cell_type": "code",
   "execution_count": 37,
   "metadata": {},
   "outputs": [
    {
     "name": "stdout",
     "output_type": "stream",
     "text": [
      "5\n",
      "6\n",
      "7\n",
      "8\n",
      "9\n",
      "sub_total: 0 + 5 = 5\n",
      "sub_total: 5 + 6 = 11\n",
      "sub_total: 11 + 7 = 18\n",
      "sub_total: 18 + 8 = 26\n",
      "sub_total: 26 + 9 = 35\n",
      "sub_total: 35 + 10 = 45\n",
      "Total= 45\n"
     ]
    }
   ],
   "source": [
    "#range(start, stop)\n",
    "for count in range(5,10):\n",
    "    print(count)\n",
    "sub_total=0\n",
    "temp=0\n",
    "for item in range(5,11):\n",
    "    temp=sub_total\n",
    "    sub_total+=item\n",
    "    print(\"sub_total:\",temp, \"+\", item, \"=\",sub_total)\n",
    "print(\"Total=\",sub_total)"
   ]
  },
  {
   "cell_type": "code",
   "execution_count": 38,
   "metadata": {},
   "outputs": [
    {
     "name": "stdout",
     "output_type": "stream",
     "text": [
      "November\n",
      "Annual\n",
      "Calender\n",
      "Solstice\n"
     ]
    }
   ],
   "source": [
    "spell_list=[\"Tuesday\",\"Wednesday\",\"February\",\"November\",\"Annual\",\"Calender\",\"Solstice\"]\n",
    "spell_len=len(spell_list)\n",
    "half_1=int(spell_len/2)\n",
    "for word in range(half_1,spell_len):\n",
    "    print(spell_list[word])"
   ]
  },
  {
   "cell_type": "code",
   "execution_count": 4,
   "metadata": {},
   "outputs": [
    {
     "name": "stdout",
     "output_type": "stream",
     "text": [
      "Five to Fifteen: [5, 6, 7, 8, 9, 10, 11, 12, 13, 14, 15]\n"
     ]
    }
   ],
   "source": [
    "#task 2\n",
    "five_fifteen=[]\n",
    "for number in range(5,16):\n",
    "    five_fifteen.append(number)\n",
    "print(\"Five to Fifteen:\",list(five_fifteen))"
   ]
  },
  {
   "cell_type": "code",
   "execution_count": 5,
   "metadata": {},
   "outputs": [
    {
     "ename": "SyntaxError",
     "evalue": "unexpected EOF while parsing (2556664752.py, line 14)",
     "output_type": "error",
     "traceback": [
      "\u001b[1;36m  Input \u001b[1;32mIn [5]\u001b[1;36m\u001b[0m\n\u001b[1;33m    \u001b[0m\n\u001b[1;37m    ^\u001b[0m\n\u001b[1;31mSyntaxError\u001b[0m\u001b[1;31m:\u001b[0m unexpected EOF while parsing\n"
     ]
    }
   ],
   "source": [
    "for count in range(10,101,10):\n",
    "    print(count)\n",
    "for count in range(25,101,25):\n",
    "    print(count)\n",
    "sub_total=0\n",
    "temp=0\n",
    "for item in range(25,46,5):\n",
    "    temp=sub_total\n",
    "    sub_total+=item\n",
    "    print(\"sub_total:{temp} + {item}={sub_total}\")\n",
    "spell_list=[\"Tuesday\",\"Wednesday\",\"February\",\"November\",\"Annual\",\"Calender\",\"Solstice\"]\n",
    "for index in range(0,len(spell_list),2):\n",
    "    print(spell_list[index]\n",
    "          "
   ]
  },
  {
   "cell_type": "code",
   "execution_count": 35,
   "metadata": {},
   "outputs": [
    {
     "name": "stdout",
     "output_type": "stream",
     "text": [
      "10\n",
      "12\n",
      "14\n",
      "16\n",
      "18\n",
      "20\n",
      "20\n",
      "18\n",
      "16\n",
      "14\n",
      "12\n",
      "10\n",
      "Tuesday\n",
      "November\n",
      "Solstice\n",
      "word:complexity\n",
      "odd_letter in \"complexity\" are: ['c', 'm', 'l', 'x', 't']\n",
      "even_letter in \"complexity\" are: ['o', 'p', 'e', 'i', 'y']\n"
     ]
    }
   ],
   "source": [
    "for number in range(10,21,2):\n",
    "    print(number)\n",
    "for item in range(20,9,-2):\n",
    "    print(item)\n",
    "spell_list=[\"Tuesday\",\"Wednesday\",\"February\",\"November\",\"Annual\",\"Calender\",\"Solstice\"]\n",
    "for index in range(0,len(spell_list),3):\n",
    "    print(spell_list[index])\n",
    "#task 4\n",
    "word=input(\"word:\")\n",
    "word_len=int(len(word))\n",
    "odd_letter=[]\n",
    "even_letter=[]\n",
    "for letter in range(0,word_len,2):\n",
    "    odd_letter.append(word[letter])\n",
    "for letter in range(1,word_len,2):\n",
    "    even_letter.append(word[letter])\n",
    "print(\"odd_letter in \\\"\"+word+\"\\\" are:\", odd_letter)\n",
    "print(\"even_letter in \\\"\"+word+\"\\\" are:\", even_letter)"
   ]
  },
  {
   "cell_type": "code",
   "execution_count": 43,
   "metadata": {},
   "outputs": [
    {
     "name": "stdout",
     "output_type": "stream",
     "text": [
      "All Cities:  ['New York', 'Shanghai', 'Munich', 'Tokyo', 'Dubai', 'Mexico City', 'Sao Paulo', 'Hyderabad', 'Reykjavik', 'Moscow', 'Beijing', 'Lamu']\n",
      "All Cities:  ['New York', 'Shanghai', 'Munich', 'Tokyo', 'Dubai', 'Mexico City', 'Sao Paulo', 'Hyderabad', 'Reykjavik', 'Moscow', 'Beijing', 'Lamu']\n",
      "Team A: [0, 2, 2, 2, 4, 4, 4, 5, 6, 6, 6] \n",
      "Team B: [0, 0, 0, 1, 1, 2, 3, 3, 3, 6, 8]\n",
      "Team Totals [0, 2, 2, 2, 4, 4, 4, 5, 6, 6, 6, 0, 0, 0, 1, 1, 2, 3, 3, 3, 6, 8]\n",
      "Team_A extended [0, 2, 2, 2, 4, 4, 4, 5, 6, 6, 6, 0, 0, 0, 1, 1, 2, 3, 3, 3, 6, 8]\n",
      "common_birds extended by birds seen: ['chicken', 'blue jay', 'crow', 'pigeon', 'eagle', 'hawk', 'bat']\n",
      "all number: [0, 1, 2, 3, 4, 5, 6, 7, 8, 9, 10, 20, 30, 40, 50, 60, 70, 80, 90, 100]\n"
     ]
    }
   ],
   "source": [
    "#\"+\" list addition\n",
    "#.extend()\n",
    "visited_cities=[\"New York\",\"Shanghai\",\"Munich\",\"Tokyo\",\"Dubai\",\"Mexico City\",\"Sao Paulo\",\"Hyderabad\"]\n",
    "wish_cities=[\"Reykjavik\",\"Moscow\",\"Beijing\",\"Lamu\"]\n",
    "all_cities=visited_cities+wish_cities\n",
    "print(\"All Cities: \",all_cities)\n",
    "visited_cities.extend(wish_cities)\n",
    "print(\"All Cities: \",visited_cities)\n",
    "team_A=[0,2,2,2,4,4,4,5,6,6,6]\n",
    "team_B=[0,0,0,1,1,2,3,3,3,6,8]\n",
    "print(\"Team A:\",team_A,\"\\nTeam B:\",team_B)\n",
    "team_totals= team_A + team_B\n",
    "print(\"Team Totals\",team_totals)\n",
    "team_A.extend(team_B)\n",
    "print(\"Team_A extended\",team_A)\n",
    "#task 4\n",
    "common_birds=[\"chicken\",\"blue jay\",\"crow\",\"pigeon\"]\n",
    "birds_seen=[\"eagle\",\"hawk\",\"bat\"]\n",
    "common_birds.extend(birds_seen)\n",
    "print(\"common_birds extended by birds seen:\", common_birds)\n",
    "zero_nine=list(range(0,10))\n",
    "ten_onehundred=list(range(10,101,10))\n",
    "all_num=zero_nine+ten_onehundred\n",
    "print(\"all number:\",all_num)"
   ]
  },
  {
   "cell_type": "code",
   "execution_count": 6,
   "metadata": {},
   "outputs": [
    {
     "name": "stdout",
     "output_type": "stream",
     "text": [
      "regular ['Dubai', 'Mexico City', 'Sao Paulo', 'Hyderabad']\n",
      "reverse ['Hyderabad', 'Sao Paulo', 'Mexico City', 'Dubai']\n",
      "regular list [0, 1, 2, 3, 4, 5, 6, 7, 8, 9, 10, 20, 30, 40, 50, 60, 70, 80, 90, 100] \n",
      "\n",
      "reverse list [100, 90, 80, 70, 60, 50, 40, 30, 20, 10, 9, 8, 7, 6, 5, 4, 3, 2, 1, 0] \n",
      "\n",
      "Three Multiple\n",
      "90\n",
      "60\n",
      "30\n",
      "9\n",
      "6\n",
      "3\n",
      "0\n",
      "before list [0, 1, 2, 3, 4, 5, 6, 7, 8, 9, 10, 11, 12, 13, 14, 15, 16, 17, 18, 19, 20]\n",
      "after list [20, 19, 18, 17, 16, 15, 14, 13, 12, 11, 10, 9, 8, 7, 6, 5, 4, 3, 2, 1, 0]\n",
      "multiple of 5: [5, 10, 15, 20, 25, 30, 35, 40, 45, 50, 55, 60, 65, 70, 75, 80, 85, 90, 95, 100]\n",
      "multiple of 5 in descending order from 100: [100, 95, 90, 85, 80, 75, 70, 65, 60, 55, 50, 45, 40, 35, 30, 25, 20, 15, 10, 5]\n",
      "[44, 40, 36, 32, 28, 24, 20, 16, 12, 8, 4, 4, 8, 12, 16, 20, 24, 28, 32, 36, 40, 44]\n"
     ]
    }
   ],
   "source": [
    "#reverse()\n",
    "cities_1=[\"Dubai\",\"Mexico City\",\"Sao Paulo\",\"Hyderabad\"]\n",
    "print(\"regular\",cities_1)\n",
    "cities_1.reverse()\n",
    "print(\"reverse\",cities_1)\n",
    "all_num=[0, 1, 2, 3, 4, 5, 6, 7, 8, 9, 10, 20, 30, 40, 50, 60, 70, 80, 90, 100]\n",
    "print(\"regular list\",all_num,\"\\n\")\n",
    "all_num.reverse()\n",
    "print(\"reverse list\",all_num,\"\\n\")\n",
    "num_len=len(all_num)\n",
    "print(\"Three Multiple\")\n",
    "for num in all_num:\n",
    "    if num/3==int(num/3):\n",
    "        print(num)\n",
    "    else:\n",
    "        pass\n",
    "count_list=list(range(21))\n",
    "print(\"before list\",count_list)\n",
    "count_list.reverse()\n",
    "print(\"after list\",count_list)\n",
    "multiple_five=list(range(5,101,5))\n",
    "print(\"multiple of 5:\",multiple_five)\n",
    "multiple_five.reverse()\n",
    "print(\"multiple of 5 in descending order from 100:\",multiple_five)\n",
    "fours=list(range(4,45,4))\n",
    "more_fours=list(range(4,45,4))\n",
    "fours.reverse()\n",
    "fours.extend(more_fours)\n",
    "print(fours)"
   ]
  },
  {
   "cell_type": "code",
   "execution_count": 12,
   "metadata": {},
   "outputs": [
    {
     "name": "stdout",
     "output_type": "stream",
     "text": [
      "quiz_scores: [15, 18, 18, 18, 19, 19, 20, 20, 20, 20, 20]\n",
      "game_points: [3, 14, 0, 8, 21, 1, 3, 8]\n",
      "sorted_points: [0, 1, 3, 3, 8, 8, 14, 21]\n",
      "Unsorted: ['Dubai', 'Mexico City', 'Sao Paulo', 'Hyderabad']\n",
      "Sorted ['Dubai', 'Hyderabad', 'Mexico City', 'Sao Paulo']\n",
      "visited cities: ['New York', 'Shanghai', 'Munich', 'Tokyo', 'Dubai', 'Mexico City', 'Sao Paulo', 'Hyderabad']\n",
      "sorted cites: ['Hyderabad', 'Mexico City', 'Munich', 'New York', 'Sao Paulo', 'Shanghai']\n"
     ]
    }
   ],
   "source": [
    "#.Sort() and sorted()\n",
    "quiz_scores=[20,19,20,15,20,20,20,18,18,18,19]\n",
    "quiz_scores.sort()\n",
    "game_points=[3,14,0,8,21,1,3,8]\n",
    "sorted_points=sorted(game_points)\n",
    "print(\"quiz_scores:\",quiz_scores)\n",
    "print(\"game_points:\",game_points)\n",
    "print(\"sorted_points:\",sorted_points)\n",
    "cities_1=[\"Dubai\",\"Mexico City\",\"Sao Paulo\",\"Hyderabad\"]\n",
    "print(\"Unsorted:\",cities_1)\n",
    "cities_1.sort()\n",
    "print(\"Sorted\",cities_1)\n",
    "#task 3\n",
    "visited_cities=[\"New York\",\"Shanghai\",\"Munich\",\"Tokyo\",\"Dubai\",\"Mexico City\",\"Sao Paulo\",\"Hyderabad\"]\n",
    "sorted_cities=sorted(visited_cities)\n",
    "for city in sorted_cities:\n",
    "    if len(city) <= 5:\n",
    "        sorted_cities.remove(city)\n",
    "    else:\n",
    "        pass\n",
    "print(\"visited cities:\",visited_cities)\n",
    "print(\"sorted cites:\",sorted_cities)"
   ]
  },
  {
   "cell_type": "code",
   "execution_count": 2,
   "metadata": {},
   "outputs": [
    {
     "name": "stdout",
     "output_type": "stream",
     "text": [
      "Participate in the survey or Double Tap 'Enter' to Quit\n",
      "Enter the animal you know:\n",
      "Cat\n",
      "Dog\n",
      "Fish\n",
      "Chicken\n",
      "\n",
      "Thanks\n",
      "animals: ['Chimpanzee', 'Panther', 'Wolf', 'Armadillo', 'Cat', 'Dog', 'Fish', 'Chicken']\n",
      "list in reverse form: ['Chicken', 'Fish', 'Dog', 'Cat', 'Armadillo', 'Wolf', 'Panther', 'Chimpanzee']\n",
      "Sorted animals list: ['Armadillo', 'Cat', 'Chicken', 'Chimpanzee', 'Dog', 'Fish', 'Panther', 'Wolf']\n"
     ]
    }
   ],
   "source": [
    "#task 4\n",
    "add_animals=[]\n",
    "print(\"Participate in the survey or Double Tap 'Enter' to Quit\")\n",
    "input_animals=input(\"Enter the animal you know:\\n\")\n",
    "while input_animals != \"\":\n",
    "    add_animals.append(input_animals)\n",
    "    input_animals=input()\n",
    "print(\"Thanks\")\n",
    "animals=[\"Chimpanzee\",\"Panther\",\"Wolf\",\"Armadillo\"]\n",
    "animals.extend(add_animals)\n",
    "print(\"animals:\",animals)\n",
    "animals.reverse()\n",
    "print(\"list in reverse form:\",animals)\n",
    "animals.sort()\n",
    "print(\"Sorted animals list:\",animals)\n"
   ]
  },
  {
   "cell_type": "code",
   "execution_count": 10,
   "metadata": {},
   "outputs": [
    {
     "name": "stdout",
     "output_type": "stream",
     "text": [
      "Notebooks\n",
      "can\n",
      "be\n",
      "exported\n",
      "as\n",
      ".pdf\n",
      "STRING: Notebooks can be exported as .pdf\n",
      "LIST: ['Notebooks', 'can', 'be', 'exported', 'as', '.pdf'] \n",
      "\n",
      "down\n",
      "falling\n",
      "is\n",
      "bridge\n",
      "London\n",
      "Jack\n",
      "and\n",
      "Jill\n",
      "went\n",
      "up\n",
      "the\n",
      "hill\n",
      "To\n",
      "fetch\n",
      "a\n",
      "pail\n",
      "of\n",
      "water\n",
      "['Python', 'spaces', 'indentation']\n"
     ]
    }
   ],
   "source": [
    "#.split()\n",
    "tip=\"Notebooks can be exported as .pdf\"\n",
    "tip_words=tip.split()\n",
    "for word in tip.split():\n",
    "    print(word)\n",
    "print(\"STRING:\",tip)\n",
    "print(\"LIST:\",tip_words,\"\\n\")\n",
    "rhyme=\"London bridge is falling down\"\n",
    "rhyme_words=rhyme.split()\n",
    "rhyme_words.reverse()\n",
    "for word in rhyme_words:\n",
    "    print(word)\n",
    "    \n",
    "#task 1\n",
    "rhyme='Jack and Jill went up the hill To fetch a pail of water'\n",
    "rhyme_words=rhyme.split()\n",
    "for word in rhyme_words:\n",
    "    print(word)\n",
    "    \n",
    "code_tip=\"Python uses spaces for indentation\"\n",
    "code_word=code_tip.split()\n",
    "print(code_word[0:len(code_word):2])"
   ]
  },
  {
   "cell_type": "code",
   "execution_count": 7,
   "metadata": {},
   "outputs": [
    {
     "name": "stdout",
     "output_type": "stream",
     "text": [
      "['Python', 'uses', 'spaces', 'for', 'indentation']\n",
      "Python uses spaces for indentation\n",
      "['Python uses sp', 'ces for indent', 'tion']\n",
      "['Jack and Jill went up the hill', 'To fetch a pale of water', 'Jack fell down and broke his crown', 'And Jill came tumbling after'] \n",
      "\n",
      "And Jill came tumbling after\n",
      "Jack fell down and broke his crown\n",
      "To fetch a pale of water\n",
      "Jack and Jill went up the hill\n",
      "['Write code frequently', 'Save code frequently', 'Comment code frequently', 'Study code frequently', ''] \n",
      "\n",
      "WRITE CODE FREQUENTLY\n",
      "SAVE CODE FREQUENTLY\n",
      "COMMENT CODE FREQUENTLY\n",
      "STUDY CODE FREQUENTLY\n",
      "\n"
     ]
    }
   ],
   "source": [
    "#split('-')\n",
    "code_tip=\"Python-uses-spaces-for-indentation\"\n",
    "tip_words=code_tip.split('-')\n",
    "print(tip_words)\n",
    "\n",
    "code_tip=\"Python uses spaces for indentation\"\n",
    "tip_words=code_tip.split('a')\n",
    "print(code_tip)\n",
    "print(tip_words)\n",
    "#triple_qoutes\n",
    "big_qoute=\"\"\"Jack and Jill went up the hill\n",
    "To fetch a pale of water\n",
    "Jack fell down and broke his crown\n",
    "And Jill came tumbling after\"\"\"\n",
    "qoute_lines=big_qoute.split('\\n')\n",
    "print(qoute_lines,'\\n')\n",
    "for line in qoute_lines[::-1]:\n",
    "    print(line)\n",
    "#task 2\n",
    "poem=\"Write code frequently*Save code frequently*Comment code frequently*Study code frequently*\"\n",
    "poem_word=poem.split('*')\n",
    "print(poem_word,'\\n')\n",
    "for line in poem_word:\n",
    "    print(line.upper())"
   ]
  },
  {
   "cell_type": "code",
   "execution_count": 11,
   "metadata": {},
   "outputs": [
    {
     "name": "stdout",
     "output_type": "stream",
     "text": [
      "Notebookscanbeexportedas.pdf\n",
      "Python\n",
      "A*s*t*e*r*i*s*k\n"
     ]
    }
   ],
   "source": [
    "#.join()\n",
    "tip_words=['Notebooks','can','be','exported','as','.pdf']\n",
    "print(\"\".join(tip_words))\n",
    "no_space=\"\"\n",
    "letters=[\"P\",\"y\",\"t\",\"h\",\"o\",\"n\"]\n",
    "print(no_space.join(letters))\n",
    "#task3\n",
    "letters=[\"A\",\"s\",\"t\",\"e\",\"r\",\"i\",\"s\",\"k\"]\n",
    "print(\"*\".join(letters))"
   ]
  },
  {
   "cell_type": "code",
   "execution_count": 2,
   "metadata": {},
   "outputs": [
    {
     "name": "stdout",
     "output_type": "stream",
     "text": [
      "Select the separator you would like to use,'',*,-:\n",
      "*\n",
      "['Jack', 'and', 'Jill', 'went', 'up', 'the', 'hill', 'To', 'fetch', 'a', 'pail', 'of', 'water']\n",
      "Jack*and*Jill*went*up*the*hill*To*fetch*a*pail*of*water\n"
     ]
    }
   ],
   "source": [
    "separator=input(\"Select the separator you would like to use,'\"\"',*,-:\\n\")\n",
    "phrase_words=['Jack','and','Jill','went','up','the','hill','To','fetch','a','pail','of','water']\n",
    "print(phrase_words)\n",
    "print(separator.join(phrase_words))\n"
   ]
  },
  {
   "cell_type": "code",
   "execution_count": 41,
   "metadata": {},
   "outputs": [
    {
     "name": "stdout",
     "output_type": "stream",
     "text": [
      "['H', 'e', 'l', 'l', 'o']\n",
      "['c', 'o', 'n', 'c', 'a', 't', 'e', 'n', 'a', 't', 'e', 's']\n",
      "c-o-n-c-a-t-e-n-a-t-e-s\n",
      "Helloworld\n",
      "Hello World\n",
      "still something to learn about print()\n",
      "C*o*n*c*a*t*e*n*a*t*i*o*n*\n",
      " Always test your code\n",
      "A\n",
      "l\n",
      "w\n",
      "a\n",
      "y\n",
      "s\n",
      " \n",
      "t\n",
      "e\n",
      "s\n",
      "t\n",
      " \n",
      "y\n",
      "o\n",
      "u\n",
      "r\n",
      " \n",
      "c\n",
      "o\n",
      "d\n",
      "e\n",
      "['1', '2', '3', '4', '5', '6', '2', '7', '8', '3', '8', '1', '2', '8', '3', '6', '9', '7', '3']\n"
     ]
    }
   ],
   "source": [
    "#cast string to list and (end=)\n",
    "hello_letters=list(\"Hello\")\n",
    "print(hello_letters)\n",
    "word_letters=list(\"concatenates\")\n",
    "print(word_letters)\n",
    "print('-'.join(word_letters))\n",
    "print(\"Hello\",end='')\n",
    "print(\"world\")\n",
    "print(\"Hello World\",end=\"\\n\")\n",
    "print('still something to learn about print()')\n",
    "word=\"Concatenation\"\n",
    "for letter in word:\n",
    "    print(letter,end='*')\n",
    "fact=\"Always test your code\"\n",
    "print(\"\\n\",fact)\n",
    "fact_letter=list(fact)\n",
    "for letters in fact_letter:\n",
    "    print(letters)\n",
    "\n",
    "\n"
   ]
  },
  {
   "cell_type": "code",
   "execution_count": 62,
   "metadata": {},
   "outputs": [
    {
     "name": "stdout",
     "output_type": "stream",
     "text": [
      "['1', '2', '3', '4', '5', '6', '2', '7', '8', '3', '8', '1', '2', '8', '3', '6', '9', '7', '3']\n",
      "1+2+3+4+5+6+2+7+8+3+8+1+2+8+3+6+9+7+3 = 88\n"
     ]
    }
   ],
   "source": [
    "digit_20=\"1234562783812836973\"\n",
    "digit_list=list(digit_20)\n",
    "print(digit_list)\n",
    "digit= [int(number) for number in digit_list]\n",
    "digit_sum= sum(digit)\n",
    "print(\"+\".join(digit_list),\"=\", digit_sum)\n"
   ]
  },
  {
   "cell_type": "code",
   "execution_count": 6,
   "metadata": {},
   "outputs": [
    {
     "name": "stdout",
     "output_type": "stream",
     "text": [
      "solid -is state of matter\n",
      "liquid -is state of matter\n",
      "gas -is state of matter\n",
      "plasma -is state of matter\n",
      "All birds: ['turkey', 'hawk', 'chicken', 'dove', 'crow']\n",
      "Birds after removing those that starts with 'c' ['turkey', 'hawk', 'dove']\n",
      "[2, 2, 2, 1, 2, 1, 3, 3, 1, 2, 2, 2, 2, 1, 3]\n",
      "1pt occurs 4 times\n",
      "2pt occurs 8 times\n",
      "3pt occurs 3 times\n",
      "Total points= 29\n"
     ]
    }
   ],
   "source": [
    "#Text\n",
    "matter_states=['solid','liquid','gas','plasma']\n",
    "for state in matter_states:\n",
    "    print(state,\"-is state of matter\")\n",
    "birds=[\"turkey\",\"hawk\",\"chicken\",\"dove\",\"crow\"]\n",
    "print(\"All birds:\",birds)\n",
    "for bird in birds:\n",
    "    if bird.startswith(\"c\"):\n",
    "        birds.remove(bird)\n",
    "    else:\n",
    "        pass\n",
    "print(\"Birds after removing those that starts with 'c'\",birds)\n",
    "baskets=[2,2,2,1,2,1,3,3,1,2,2,2,2,1,3]\n",
    "basket=str(baskets)\n",
    "print(basket)\n",
    "print(\"1pt occurs\",basket.count(\"1\"),\"times\")\n",
    "print(\"2pt occurs\",basket.count(\"2\"),\"times\")\n",
    "print(\"3pt occurs\",basket.count(\"3\"),\"times\")\n",
    "print(\"Total points=\",sum(baskets))\n"
   ]
  },
  {
   "cell_type": "code",
   "execution_count": null,
   "metadata": {},
   "outputs": [],
   "source": []
  },
  {
   "cell_type": "code",
   "execution_count": null,
   "metadata": {},
   "outputs": [],
   "source": []
  }
 ],
 "metadata": {
  "kernelspec": {
   "display_name": "Python 3 (ipykernel)",
   "language": "python",
   "name": "python3"
  },
  "language_info": {
   "codemirror_mode": {
    "name": "ipython",
    "version": 3
   },
   "file_extension": ".py",
   "mimetype": "text/x-python",
   "name": "python",
   "nbconvert_exporter": "python",
   "pygments_lexer": "ipython3",
   "version": "3.8.8"
  }
 },
 "nbformat": 4,
 "nbformat_minor": 2
}
